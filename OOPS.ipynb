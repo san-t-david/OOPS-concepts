{
 "cells": [
  {
   "cell_type": "markdown",
   "metadata": {},
   "source": [
    "Object Oriented Programming"
   ]
  },
  {
   "cell_type": "code",
   "execution_count": null,
   "metadata": {},
   "outputs": [],
   "source": [
    "#Class is the blueprint\n",
    "#Object is the instances of a class"
   ]
  },
  {
   "cell_type": "markdown",
   "metadata": {},
   "source": [
    "Creating the Dog Class"
   ]
  },
  {
   "cell_type": "code",
   "execution_count": 39,
   "metadata": {},
   "outputs": [
    {
     "name": "stdout",
     "output_type": "stream",
     "text": [
      "my dog's name is Jhansi\n",
      "my dog is 12 years old\n"
     ]
    }
   ],
   "source": [
    "class Dog:\n",
    "    def __init__(self,name,age): # Initialize name and age attributes\n",
    "        self.name=name\n",
    "        self.age=age\n",
    "    def sit(self):\n",
    "        print(f\"{self.name} is sitting now\")\n",
    "    def roll_over(self):\n",
    "        print(f\"{self.name} is rolled over!\")\n",
    "#Making an Instance from a Class\n",
    "my_dog=Dog('Jhansi',12)\n",
    "#Accessing Attributes\n",
    "print(f\"my dog's name is {my_dog.name}\")\n",
    "print(f\"my dog is {my_dog.age} years old\")"
   ]
  },
  {
   "cell_type": "markdown",
   "metadata": {},
   "source": [
    "Calling Methods"
   ]
  },
  {
   "cell_type": "code",
   "execution_count": 40,
   "metadata": {},
   "outputs": [
    {
     "name": "stdout",
     "output_type": "stream",
     "text": [
      "Jhansi is sitting now\n",
      "Jhansi is rolled over!\n"
     ]
    }
   ],
   "source": [
    "my_dog.sit()\n",
    "my_dog.roll_over()"
   ]
  },
  {
   "cell_type": "markdown",
   "metadata": {},
   "source": [
    "Creating Multiple Instances"
   ]
  },
  {
   "cell_type": "code",
   "execution_count": 41,
   "metadata": {},
   "outputs": [
    {
     "name": "stdout",
     "output_type": "stream",
     "text": [
      "my dog's name is Jhansi\n",
      "my dog is 12 years old\n",
      "Jhansi is sitting now\n",
      "------------------------------\n",
      "your dog's name is Rani\n",
      "your dog is 8 years old\n",
      "Rani is sitting now\n"
     ]
    }
   ],
   "source": [
    "your_dog=Dog('Rani',8)\n",
    "\n",
    "print(f\"my dog's name is {my_dog.name}\")\n",
    "print(f\"my dog is {my_dog.age} years old\")\n",
    "my_dog.sit()\n",
    "print(\"-\"*30)\n",
    "print(f\"your dog's name is {your_dog.name}\")\n",
    "print(f\"your dog is {your_dog.age} years old\")\n",
    "your_dog.sit()"
   ]
  },
  {
   "cell_type": "markdown",
   "metadata": {},
   "source": [
    "Excercise : 1"
   ]
  },
  {
   "cell_type": "markdown",
   "metadata": {},
   "source": [
    "Restaurant: Make a class called Restaurant. The __init__() method for \n",
    "Restaurant should store two attributes: a restaurant_name and a cuisine_type. \n",
    "Make a method called describe_restaurant() that prints these two pieces of \n",
    "information, and a method called open_restaurant() that prints a message indicating that the restaurant is open.\n",
    "Make an instance called restaurant from your class. Print the two attributes individually, and then call both methods.\n",
    "\n",
    "Three Restaurants: Start with your class from Restaurant. Create three \n",
    "different instances from the class, and call describe_restaurant() for each \n",
    "instance"
   ]
  },
  {
   "cell_type": "code",
   "execution_count": 42,
   "metadata": {},
   "outputs": [],
   "source": [
    "class Restaurant:\n",
    "    def __init__(self,restaurant_name,cuisine_type):\n",
    "        self.restaurant_name= restaurant_name\n",
    "        self.cuisine_type= cuisine_type\n",
    "    def describe_restaurant(self):\n",
    "        print(f\"Restaurant_name: {self.restaurant_name}\")\n",
    "        print(f\"Cuisine_type:{self.cuisine_type}\")\n",
    "    def open_restaurant(self):\n",
    "        print(f\"The Restaurant {self.restaurant_name} is now open!\\n\")"
   ]
  },
  {
   "cell_type": "code",
   "execution_count": 17,
   "metadata": {},
   "outputs": [],
   "source": [
    "restaurant1=Restaurant('Geetham','Indian_veg')\n",
    "restaurant2=Restaurant(\"Wendy's burger\",'Amercian')\n",
    "restaurant3=Restaurant(\"Ching Wan\",'Chineese')"
   ]
  },
  {
   "cell_type": "code",
   "execution_count": 19,
   "metadata": {},
   "outputs": [
    {
     "name": "stdout",
     "output_type": "stream",
     "text": [
      "Restaurant_name: Geetham\n",
      "Cuisine_type:Indian_veg\n",
      "The Restaurant Geetham is now open!\n",
      "\n",
      "Restaurant_name: Wendy's burger\n",
      "Cuisine_type:Amercian\n",
      "The Restaurant Wendy's burger is now open!\n",
      "\n",
      "Restaurant_name: Ching Wan\n",
      "Cuisine_type:Chineese\n",
      "The Restaurant Ching Wan is now open!\n",
      "\n"
     ]
    }
   ],
   "source": [
    "restaurant1.describe_restaurant()\n",
    "restaurant1.open_restaurant()\n",
    "restaurant2.describe_restaurant()\n",
    "restaurant2.open_restaurant()\n",
    "restaurant3.describe_restaurant()\n",
    "restaurant3.open_restaurant()"
   ]
  },
  {
   "cell_type": "markdown",
   "metadata": {},
   "source": [
    "Make a class called User. Create two attributes called first_name\n",
    "and last_name, and then create several other attributes that are typically stored \n",
    "in a user profile. Make a method called describe_user() that prints a summary \n",
    "of the user’s information. Make another method called greet_user() that prints \n",
    "a personalized greeting to the user.\n",
    "\n",
    "Create several instances representing different users, and call both methods for each user."
   ]
  },
  {
   "cell_type": "code",
   "execution_count": 26,
   "metadata": {},
   "outputs": [],
   "source": [
    "class User:\n",
    "    def __init__(self,first_name,last_name,age,email,user_name):\n",
    "        self.first_name=first_name\n",
    "        self.last_name=last_name\n",
    "        self.age=age\n",
    "        self.email=email\n",
    "        self.user_name=user_name\n",
    "    def describe_user(self):\n",
    "        print(\"User profile:\")\n",
    "        print(f\" Name:{self.first_name} {self.last_name}\")\n",
    "        print(f\" Age:{self.age}\")\n",
    "        print(f\" Email:{self.email}\")\n",
    "        print(f\" User_name:{self.user_name}\")\n",
    "    def greet_user(self):\n",
    "        print(f\"Hello, {self.first_name} welcome back!\")"
   ]
  },
  {
   "cell_type": "code",
   "execution_count": 27,
   "metadata": {},
   "outputs": [],
   "source": [
    "user1=User(\"Alice\", \"Smith\", 28, \"alice.smith@example.com\", \"alice_smith\")\n",
    "user2=User(\"Bob\", \"Johnson\", 35, \"bob.johnson@example.com\", \"bobby_j\")\n",
    "user3=User(\"Charlie\", \"Brown\", 22, \"charlie.brown@example.com\", \"charlie_brown\")"
   ]
  },
  {
   "cell_type": "code",
   "execution_count": 28,
   "metadata": {},
   "outputs": [
    {
     "name": "stdout",
     "output_type": "stream",
     "text": [
      "User profile:\n",
      " Name:Alice Smith\n",
      " Age:28\n",
      " Email:alice.smith@example.com\n",
      " User_name:alice_smith\n",
      "Hello, Alice welcome back!\n"
     ]
    }
   ],
   "source": [
    "user1.describe_user()\n",
    "user1.greet_user()"
   ]
  },
  {
   "cell_type": "code",
   "execution_count": 30,
   "metadata": {},
   "outputs": [],
   "source": [
    "users=[user1,user2,user3]"
   ]
  },
  {
   "cell_type": "code",
   "execution_count": 31,
   "metadata": {},
   "outputs": [
    {
     "name": "stdout",
     "output_type": "stream",
     "text": [
      "User profile:\n",
      " Name:Alice Smith\n",
      " Age:28\n",
      " Email:alice.smith@example.com\n",
      " User_name:alice_smith\n",
      "Hello, Alice welcome back!\n",
      "------------------------------\n",
      "User profile:\n",
      " Name:Bob Johnson\n",
      " Age:35\n",
      " Email:bob.johnson@example.com\n",
      " User_name:bobby_j\n",
      "Hello, Bob welcome back!\n",
      "------------------------------\n",
      "User profile:\n",
      " Name:Charlie Brown\n",
      " Age:22\n",
      " Email:charlie.brown@example.com\n",
      " User_name:charlie_brown\n",
      "Hello, Charlie welcome back!\n",
      "------------------------------\n"
     ]
    }
   ],
   "source": [
    "for user in users:\n",
    "    user.describe_user()\n",
    "    user.greet_user()\n",
    "    print('-' * 30)"
   ]
  },
  {
   "cell_type": "markdown",
   "metadata": {},
   "source": [
    "Working with Classes and Instances"
   ]
  },
  {
   "cell_type": "code",
   "execution_count": 1,
   "metadata": {},
   "outputs": [],
   "source": [
    "class Car:\n",
    "    def __init__(self,make,model,year):\n",
    "        self.make=make\n",
    "        self.model=model\n",
    "        self.year=year\n",
    "    def get_descriptive_name(self):\n",
    "        long_name= f\"{self.year} {self.make} {self.model}\"\n",
    "        return long_name.title()"
   ]
  },
  {
   "cell_type": "code",
   "execution_count": 44,
   "metadata": {},
   "outputs": [
    {
     "name": "stdout",
     "output_type": "stream",
     "text": [
      "2010 Hyundai I20\n"
     ]
    }
   ],
   "source": [
    "my_car=Car('hyundai','i20',2010)\n",
    "print(my_car.get_descriptive_name())"
   ]
  },
  {
   "cell_type": "markdown",
   "metadata": {},
   "source": [
    "Setting a Default Value for an Attribute"
   ]
  },
  {
   "cell_type": "code",
   "execution_count": 9,
   "metadata": {},
   "outputs": [
    {
     "name": "stdout",
     "output_type": "stream",
     "text": [
      "2010 Hyundai I20\n",
      "This car has 0 miles on it.\n"
     ]
    }
   ],
   "source": [
    "class Car:\n",
    "    def __init__(self,make,model,year):\n",
    "        self.make=make\n",
    "        self.model=model\n",
    "        self.year=year\n",
    "        self.odometer_reading =0 \n",
    "    def get_descriptive_name(self):\n",
    "        long_name= f\"{self.year} {self.make} {self.model}\"\n",
    "        return long_name.title()\n",
    "    def read_odometer(self):\n",
    "        print(f\"This car has {self.odometer_reading} miles on it.\")\n",
    "\n",
    "my_car=Car('hyundai','i20',2010)\n",
    "print(my_car.get_descriptive_name())\n",
    "my_car.read_odometer()"
   ]
  },
  {
   "cell_type": "markdown",
   "metadata": {},
   "source": [
    "Modifying Attribute Values"
   ]
  },
  {
   "cell_type": "code",
   "execution_count": 8,
   "metadata": {},
   "outputs": [
    {
     "name": "stdout",
     "output_type": "stream",
     "text": [
      "2010 Hyundai I20\n",
      "This car has 23 miles on it.\n"
     ]
    }
   ],
   "source": [
    "#Modifying an Attribute’s Value Directly\n",
    "class Car:\n",
    "    def __init__(self,make,model,year):\n",
    "        self.make=make\n",
    "        self.model=model\n",
    "        self.year=year\n",
    "        self.odometer_reading =0 \n",
    "    def get_descriptive_name(self):\n",
    "        long_name= f\"{self.year} {self.make} {self.model}\"\n",
    "        return long_name.title()\n",
    "    def read_odometer(self):\n",
    "        print(f\"This car has {self.odometer_reading} miles on it.\")\n",
    "\n",
    "my_car=Car('hyundai','i20',2010)\n",
    "print(my_car.get_descriptive_name())\n",
    "my_car.odometer_reading=23 \n",
    "my_car.read_odometer()"
   ]
  },
  {
   "cell_type": "code",
   "execution_count": 45,
   "metadata": {},
   "outputs": [
    {
     "name": "stdout",
     "output_type": "stream",
     "text": [
      "2010 Hyundai I20\n",
      "This car has 25 miles on it.\n"
     ]
    }
   ],
   "source": [
    "#Modifying an Attribute’s Value Through a Method\n",
    "class Car:\n",
    "    def __init__(self,make,model,year):\n",
    "        self.make=make\n",
    "        self.model=model\n",
    "        self.year=year\n",
    "        self.odometer_reading =0 \n",
    "    def get_descriptive_name(self):\n",
    "        long_name= f\"{self.year} {self.make} {self.model}\"\n",
    "        return long_name.title()\n",
    "    def read_odometer(self):\n",
    "        print(f\"This car has {self.odometer_reading} miles on it.\")\n",
    "    def update_odometer(self,mileage):\n",
    "        self.odometer_reading = mileage\n",
    "\n",
    "\n",
    "my_car=Car('hyundai','i20',2010)\n",
    "print(my_car.get_descriptive_name())\n",
    "my_car.update_odometer(25) \n",
    "my_car.read_odometer()"
   ]
  },
  {
   "cell_type": "code",
   "execution_count": 18,
   "metadata": {},
   "outputs": [
    {
     "name": "stdout",
     "output_type": "stream",
     "text": [
      "2010 Hyundai I20\n",
      "you can't rollback the odometer\n",
      "This car has 20 miles on it.\n"
     ]
    }
   ],
   "source": [
    "#adding if condition logic\n",
    "class Car:\n",
    "    def __init__(self,make,model,year):\n",
    "        self.make=make\n",
    "        self.model=model\n",
    "        self.year=year\n",
    "        self.odometer_reading = 20 \n",
    "    def get_descriptive_name(self):\n",
    "        long_name= f\"{self.year} {self.make} {self.model}\"\n",
    "        return long_name.title()\n",
    "    def read_odometer(self):\n",
    "        print(f\"This car has {self.odometer_reading} miles on it.\")\n",
    "    def update_odometer(self,mileage):\n",
    "        if mileage >= self.odometer_reading:\n",
    "            self.odometer_reading = mileage\n",
    "        else:\n",
    "            print(\"you can't rollback the odometer\")\n",
    "\n",
    "\n",
    "my_car=Car('hyundai','i20',2010)\n",
    "print(my_car.get_descriptive_name())\n",
    "my_car.update_odometer(0) \n",
    "my_car.read_odometer()"
   ]
  },
  {
   "cell_type": "code",
   "execution_count": 19,
   "metadata": {},
   "outputs": [
    {
     "name": "stdout",
     "output_type": "stream",
     "text": [
      "2005 Maruti Wagnor\n",
      "This car has 23500 miles on it.\n",
      "This car has 23600 miles on it.\n"
     ]
    }
   ],
   "source": [
    "#Incrementing an Attribute’s Value Through a Method\n",
    "class Car:\n",
    "    def __init__(self,make,model,year):\n",
    "        self.make=make\n",
    "        self.model=model\n",
    "        self.year=year\n",
    "        self.odometer_reading = 20 \n",
    "    def get_descriptive_name(self):\n",
    "        long_name= f\"{self.year} {self.make} {self.model}\"\n",
    "        return long_name.title()\n",
    "    def read_odometer(self):\n",
    "        print(f\"This car has {self.odometer_reading} miles on it.\")\n",
    "    def update_odometer(self,mileage):\n",
    "        if mileage >= self.odometer_reading:\n",
    "            self.odometer_reading = mileage\n",
    "        else:\n",
    "            print(\"you can't rollback the odometer\")\n",
    "    def increment_odometer(self,miles):\n",
    "        self.odometer_reading+=miles\n",
    "\n",
    "\n",
    "my_used_car=Car('maruti','wagnor',2005)\n",
    "print(my_used_car.get_descriptive_name())\n",
    "my_used_car.update_odometer(23500)\n",
    "my_used_car.read_odometer()\n",
    "my_used_car.increment_odometer(100)\n",
    "my_used_car.read_odometer()"
   ]
  },
  {
   "cell_type": "markdown",
   "metadata": {},
   "source": [
    "Excercise"
   ]
  },
  {
   "cell_type": "markdown",
   "metadata": {},
   "source": [
    "Start with your program from the above Excercise.\n",
    "\n",
    "Add an attribute called number_served with a default value of 0. Create an \n",
    "instance called restaurant from this class. Print the number of customers the \n",
    "restaurant has served, and then change this value and print it again.\n",
    "\n",
    "Add a method called set_number_served() that lets you set the number of \n",
    "customers that have been served. Call this method with a new number and print \n",
    "the value again.\n",
    "Add a method called increment_number_served() that lets you increment \n",
    "the number of customers whove been served. Call this method with any number \n",
    "you like that could represent how many customers were served in, say, a day of \n",
    "business."
   ]
  },
  {
   "cell_type": "code",
   "execution_count": 35,
   "metadata": {},
   "outputs": [],
   "source": [
    "class Restaurant:\n",
    "    def __init__(self,restaurant_name,cuisine_type):\n",
    "        self.restaurant_name= restaurant_name\n",
    "        self.cuisine_type= cuisine_type\n",
    "        self.number_served =0\n",
    "\n",
    "    def describe_restaurant(self):\n",
    "        print(f\"Restaurant_name: {self.restaurant_name}\")\n",
    "        print(f\"Cuisine_type:{self.cuisine_type}\")\n",
    "    def open_restaurant(self):\n",
    "        print(f\"The Restaurant {self.restaurant_name} is now open!\\n\")\n",
    "    def set_number_served(self,number):\n",
    "        self.number_served = number\n",
    "    def increment_number_served(self,additional_served):\n",
    "        self.number_served+=additional_served\n",
    "\n"
   ]
  },
  {
   "cell_type": "code",
   "execution_count": 37,
   "metadata": {},
   "outputs": [
    {
     "name": "stdout",
     "output_type": "stream",
     "text": [
      "Restaurant_name: Geetham\n",
      "Cuisine_type:Indian_veg\n",
      "The Restaurant Geetham is now open!\n",
      "\n",
      "Number of customers served: 0.\n",
      "------------------------------\n",
      "Restaurant_name: Geetham\n",
      "Cuisine_type:Indian_veg\n",
      "The Restaurant Geetham is now open!\n",
      "\n",
      "Number of customers served: 10.\n",
      "------------------------------\n",
      "Restaurant_name: Geetham\n",
      "Cuisine_type:Indian_veg\n",
      "The Restaurant Geetham is now open!\n",
      "\n",
      "Number of customers served: 20.\n",
      "------------------------------\n",
      "Restaurant_name: Geetham\n",
      "Cuisine_type:Indian_veg\n",
      "The Restaurant Geetham is now open!\n",
      "\n",
      "Number of customers served after increment: 30.\n",
      "------------------------------\n"
     ]
    }
   ],
   "source": [
    "restaurant=Restaurant('Geetham','Indian_veg')\n",
    "#Print the number of customers the restaurant has served\n",
    "restaurant.describe_restaurant()\n",
    "restaurant.open_restaurant()\n",
    "print(f\"Number of customers served: {restaurant.number_served}.\")\n",
    "print('-' * 30)\n",
    "# Change the number of customers served\n",
    "restaurant.describe_restaurant()\n",
    "restaurant.open_restaurant()\n",
    "restaurant.number_served = 10\n",
    "print(f\"Number of customers served: {restaurant.number_served}.\")\n",
    "print('-' * 30)\n",
    "# Set the number of customers served using the method\n",
    "restaurant.describe_restaurant()\n",
    "restaurant.open_restaurant()\n",
    "restaurant.set_number_served(20)\n",
    "print(f\"Number of customers served: {restaurant.number_served}.\")\n",
    "print('-' * 30)\n",
    "# Increment the number of customers served using the method\n",
    "restaurant.describe_restaurant()\n",
    "restaurant.open_restaurant()\n",
    "restaurant.increment_number_served(10)\n",
    "print(f\"Number of customers served after increment: {restaurant.number_served}.\")\n",
    "print('-' * 30)\n"
   ]
  },
  {
   "cell_type": "code",
   "execution_count": null,
   "metadata": {},
   "outputs": [],
   "source": []
  }
 ],
 "metadata": {
  "kernelspec": {
   "display_name": "Python 3",
   "language": "python",
   "name": "python3"
  },
  "language_info": {
   "codemirror_mode": {
    "name": "ipython",
    "version": 3
   },
   "file_extension": ".py",
   "mimetype": "text/x-python",
   "name": "python",
   "nbconvert_exporter": "python",
   "pygments_lexer": "ipython3",
   "version": "3.12.3"
  }
 },
 "nbformat": 4,
 "nbformat_minor": 2
}
